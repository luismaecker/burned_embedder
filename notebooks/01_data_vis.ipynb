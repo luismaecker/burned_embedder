{
 "cells": [
  {
   "cell_type": "markdown",
   "id": "748556fa",
   "metadata": {},
   "source": [
    "# Packages"
   ]
  },
  {
   "cell_type": "code",
   "execution_count": 1,
   "id": "3a0c624b",
   "metadata": {},
   "outputs": [],
   "source": [
    "# Use autoreload to automatically reload modules\n",
    "%load_ext autoreload\n",
    "%autoreload 2"
   ]
  },
  {
   "cell_type": "code",
   "execution_count": 9,
   "id": "db18e139",
   "metadata": {},
   "outputs": [],
   "source": [
    "# Setup paths\n",
    "import rootutils\n",
    "import xarray as xr\n",
    "import pandas as pd\n",
    "root_path = rootutils.find_root()\n"
   ]
  },
  {
   "cell_type": "code",
   "execution_count": 3,
   "id": "6e8a7e22",
   "metadata": {},
   "outputs": [],
   "source": [
    "def img_interactive(da):\n",
    "\n",
    "    import ipywidgets as widgets\n",
    "    import matplotlib.pyplot as plt\n",
    "\n",
    "    def plot_time_step(time_index):\n",
    "        plt.figure(figsize=(8, 8))\n",
    "        da.isel(time=time_index).plot.imshow(robust=True)\n",
    "        plt.title(f\"{str(da.time.values[time_index])[:10]}\")\n",
    "        plt.axis('off')\n",
    "        plt.show()\n",
    "\n",
    "    widgets.interact(plot_time_step, time_index=widgets.IntSlider(min=0, max=len(da.time)-1, step=1, value=0))"
   ]
  },
  {
   "cell_type": "code",
   "execution_count": null,
   "id": "374ed5d7",
   "metadata": {},
   "outputs": [
    {
     "data": {
      "text/plain": [
       "Timestamp('2025-06-27 22:14:21')"
      ]
     },
     "execution_count": 15,
     "metadata": {},
     "output_type": "execute_result"
    }
   ],
   "source": [
    "fire_df = pd.read_parquet(root_path / \"data\" / \"raw\" / \"spain_fires_25.parquet\")"
   ]
  },
  {
   "cell_type": "code",
   "execution_count": 66,
   "id": "66b3d42e",
   "metadata": {},
   "outputs": [],
   "source": [
    "i = 24"
   ]
  },
  {
   "cell_type": "code",
   "execution_count": null,
   "id": "ca941a6b",
   "metadata": {},
   "outputs": [
    {
     "name": "stdout",
     "output_type": "stream",
     "text": [
      "2025-03-31 21:55:32\n"
     ]
    },
    {
     "data": {
      "application/vnd.jupyter.widget-view+json": {
       "model_id": "1774b656e9d54d6296d29d9104acec3b",
       "version_major": 2,
       "version_minor": 0
      },
      "text/plain": [
       "interactive(children=(IntSlider(value=0, description='time_index', max=25), Output()), _dom_classes=('widget-i…"
      ]
     },
     "metadata": {},
     "output_type": "display_data"
    }
   ],
   "source": [
    "print(fire_df[\"Time\"].iloc[i])\n",
    "da_s2 = xr.open_dataarray(root_path / \"data\" / \"raw\" / str(i) / \"da_s2.nc\" ) \n",
    "da_s2_rgb = da_s2.sel(band=[\"B04\", \"B03\", \"B02\"])\n",
    "img_interactive(da_s2_rgb)"
   ]
  },
  {
   "cell_type": "code",
   "execution_count": null,
   "id": "756f878c",
   "metadata": {},
   "outputs": [],
   "source": []
  }
 ],
 "metadata": {
  "kernelspec": {
   "display_name": "burned_embedder",
   "language": "python",
   "name": "python3"
  },
  "language_info": {
   "codemirror_mode": {
    "name": "ipython",
    "version": 3
   },
   "file_extension": ".py",
   "mimetype": "text/x-python",
   "name": "python",
   "nbconvert_exporter": "python",
   "pygments_lexer": "ipython3",
   "version": "3.12.4"
  }
 },
 "nbformat": 4,
 "nbformat_minor": 5
}
