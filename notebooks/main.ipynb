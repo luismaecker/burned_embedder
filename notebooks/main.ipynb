{
 "cells": [
  {
   "cell_type": "markdown",
   "id": "191460da",
   "metadata": {},
   "source": [
    "# Result Notebook"
   ]
  },
  {
   "cell_type": "markdown",
   "id": "7f4a6695",
   "metadata": {},
   "source": [
    "This note book contains the processing workflow how the model we trained can be applied."
   ]
  },
  {
   "cell_type": "markdown",
   "id": "a27082c8",
   "metadata": {},
   "source": [
    "# Packages"
   ]
  },
  {
   "cell_type": "code",
   "execution_count": 1,
   "id": "46093c32",
   "metadata": {},
   "outputs": [],
   "source": [
    "# Use autoreload to automatically reload modules\n",
    "%load_ext autoreload\n",
    "%autoreload 2"
   ]
  },
  {
   "cell_type": "code",
   "execution_count": 2,
   "id": "ee7fb22a",
   "metadata": {},
   "outputs": [],
   "source": [
    "import rootutils\n",
    "root_path = rootutils.find_root()"
   ]
  },
  {
   "cell_type": "code",
   "execution_count": 3,
   "id": "3d0c9742",
   "metadata": {},
   "outputs": [],
   "source": [
    "import cubo\n",
    "import xarray as xr\n",
    "# import basic libraries\n",
    "import torch\n",
    "from torch.utils.data import DataLoader\n",
    "import matplotlib.pyplot as plt\n",
    "from tqdm import tqdm\n",
    "from datetime import datetime\n",
    "import numpy as np"
   ]
  },
  {
   "cell_type": "code",
   "execution_count": 4,
   "id": "7098011c",
   "metadata": {},
   "outputs": [],
   "source": [
    "from burned_embedder.classifier.dataset import create_datasets\n",
    "from burned_embedder.classifier.model import get_model\n",
    "from burned_embedder.classifier.model_utils import (\n",
    "    train_epoch, evaluate, EarlyStopping, print_metrics\n",
    ")\n",
    "from burned_embedder.utils import setup_device\n"
   ]
  },
  {
   "cell_type": "markdown",
   "id": "2a42a4bc",
   "metadata": {},
   "source": [
    "# Setting up datalo"
   ]
  },
  {
   "cell_type": "markdown",
   "id": "910201fb",
   "metadata": {},
   "source": [
    "Config for the classifier model. Note: model is not trained here - config is just for some metadata."
   ]
  },
  {
   "cell_type": "code",
   "execution_count": 5,
   "id": "38adb04a",
   "metadata": {},
   "outputs": [],
   "source": [
    "config = {\n",
    "    'test_size': 0.2,\n",
    "    'val_split': 0.1,\n",
    "    'seed': 2,\n",
    "    'input_type': 'concat',\n",
    "    'hidden_dims': [1400, 700, 350],\n",
    "    'dropout': 0.4,\n",
    "    'weight_decay': 1e-4,\n",
    "    'batch_size': 32,\n",
    "    'lr': 0.001,\n",
    "    'epochs': 100,\n",
    "    'patience': 15,\n",
    "}"
   ]
  },
  {
   "cell_type": "markdown",
   "id": "563d6bbe",
   "metadata": {},
   "source": [
    "Get the datasets and dataloaders that retrieve the computed embeddings."
   ]
  },
  {
   "cell_type": "code",
   "execution_count": null,
   "id": "325a5770",
   "metadata": {},
   "outputs": [
    {
     "name": "stdout",
     "output_type": "stream",
     "text": [
      "\n",
      "Using device: cuda:1\n",
      "\n",
      "Creating datasets...\n",
      "Loaded 1556 positive samples\n",
      "Loaded 1402 negative samples\n",
      "\n",
      "Dataset splits:\n",
      "  Train: 2129 samples (pos: 1120, neg: 1009)\n",
      "  Val:   237 samples (pos: 125, neg: 112)\n",
      "  Test:  592 samples (pos: 311, neg: 281)\n",
      "  Input type: concat\n",
      "Input dimension: 1536\n",
      "\n",
      "Model Architecture:\n",
      "DifferenceMLP(\n",
      "  (model): Sequential(\n",
      "    (0): Linear(in_features=1536, out_features=1400, bias=True)\n",
      "    (1): ReLU()\n",
      "    (2): Dropout(p=0.4, inplace=False)\n",
      "    (3): Linear(in_features=1400, out_features=700, bias=True)\n",
      "    (4): ReLU()\n",
      "    (5): Dropout(p=0.4, inplace=False)\n",
      "    (6): Linear(in_features=700, out_features=350, bias=True)\n",
      "    (7): ReLU()\n",
      "    (8): Dropout(p=0.4, inplace=False)\n",
      "    (9): Linear(in_features=350, out_features=1, bias=True)\n",
      "    (10): Sigmoid()\n",
      "  )\n",
      ")\n",
      "\n",
      "Total parameters: 3,378,201\n",
      "Trainable parameters: 3,378,201\n"
     ]
    }
   ],
   "source": [
    "# Setup device\n",
    "device = setup_device(gpu_index=1, memory_fraction=1.0)\n",
    "print(f\"\\nUsing device: {device}\")\n",
    "\n",
    "# Create datasets\n",
    "print(\"\\nCreating datasets...\")\n",
    "train_dataset, val_dataset, test_dataset = create_datasets(\n",
    "    test_size=config['test_size'],\n",
    "    val_split=config['val_split'],\n",
    "    random_state=config['seed'],\n",
    "    input_type=config['input_type'],\n",
    "    augment=False  \n",
    ")\n",
    "\n",
    "# Get input dimension\n",
    "sample_embedding, _ = train_dataset[0]\n",
    "input_dim = sample_embedding.shape[0]\n",
    "print(f\"Input dimension: {input_dim}\")\n",
    "\n",
    "# Create dataloaders - reproducible same as for training\n",
    "train_loader = DataLoader(\n",
    "    train_dataset, \n",
    "    batch_size=config['batch_size'], \n",
    "    shuffle=True, \n",
    "    num_workers=4\n",
    ")\n",
    "val_loader = DataLoader(\n",
    "    val_dataset, \n",
    "    batch_size=config['batch_size'], \n",
    "    shuffle=False, \n",
    "    num_workers=4\n",
    ")\n",
    "test_loader = DataLoader(\n",
    "    test_dataset, \n",
    "    batch_size=config['batch_size'], \n",
    "    shuffle=False, \n",
    "    num_workers=4\n",
    ")\n"
   ]
  },
  {
   "cell_type": "markdown",
   "id": "add83875",
   "metadata": {},
   "source": [
    "# Load trained Deforestation Image-Level Classifier"
   ]
  },
  {
   "cell_type": "markdown",
   "id": "fcef329f",
   "metadata": {},
   "source": [
    "# "
   ]
  }
 ],
 "metadata": {
  "kernelspec": {
   "display_name": "burned_embedder",
   "language": "python",
   "name": "python3"
  },
  "language_info": {
   "codemirror_mode": {
    "name": "ipython",
    "version": 3
   },
   "file_extension": ".py",
   "mimetype": "text/x-python",
   "name": "python",
   "nbconvert_exporter": "python",
   "pygments_lexer": "ipython3",
   "version": "3.12.4"
  }
 },
 "nbformat": 4,
 "nbformat_minor": 5
}
