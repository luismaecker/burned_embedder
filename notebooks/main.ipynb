{
 "cells": [
  {
   "cell_type": "markdown",
   "id": "191460da",
   "metadata": {},
   "source": [
    "# Result Notebook"
   ]
  },
  {
   "cell_type": "markdown",
   "id": "7f4a6695",
   "metadata": {},
   "source": [
    "This note book contains the processing workflow how the model we trained can be applied.\n",
    "\n",
    "All data preprocessing, model training and evaluation was done in the scripts found in the script directory."
   ]
  },
  {
   "cell_type": "markdown",
   "id": "a27082c8",
   "metadata": {},
   "source": [
    "# Packages"
   ]
  },
  {
   "cell_type": "code",
   "execution_count": 1,
   "id": "46093c32",
   "metadata": {},
   "outputs": [],
   "source": [
    "# Use autoreload to automatically reload modules\n",
    "%load_ext autoreload\n",
    "%autoreload 2"
   ]
  },
  {
   "cell_type": "code",
   "execution_count": 2,
   "id": "ee7fb22a",
   "metadata": {},
   "outputs": [],
   "source": [
    "import rootutils\n",
    "root_path = rootutils.find_root()"
   ]
  },
  {
   "cell_type": "code",
   "execution_count": 3,
   "id": "3d0c9742",
   "metadata": {},
   "outputs": [],
   "source": [
    "import torch\n",
    "from torch.utils.data import DataLoader\n",
    "import matplotlib.pyplot as plt\n",
    "import seaborn as sns\n",
    "from tqdm import tqdm\n",
    "from datetime import datetime\n",
    "import numpy as np\n",
    "import pandas as pd\n",
    "import xarray as xr\n",
    "from burned_embedder.classifier.dataset import create_datasets\n",
    "from burned_embedder.classifier.model import get_model\n",
    "from burned_embedder.classifier.model_utils import (\n",
    "    train_epoch, evaluate, EarlyStopping, print_metrics\n",
    ")"
   ]
  },
  {
   "cell_type": "code",
   "execution_count": 4,
   "id": "7098011c",
   "metadata": {},
   "outputs": [],
   "source": [
    "\n",
    "from burned_embedder.utils import setup_device\n",
    "from sklearn.metrics import (\n",
    "    f1_score, precision_score, recall_score, roc_auc_score, \n",
    "    confusion_matrix, average_precision_score\n",
    ")"
   ]
  },
  {
   "cell_type": "markdown",
   "id": "2a42a4bc",
   "metadata": {},
   "source": [
    "# Setting up data"
   ]
  },
  {
   "cell_type": "markdown",
   "id": "910201fb",
   "metadata": {},
   "source": [
    "Config for the classifier model. Note: model is not trained here - config is just for some metadata."
   ]
  },
  {
   "cell_type": "code",
   "execution_count": 5,
   "id": "38adb04a",
   "metadata": {},
   "outputs": [],
   "source": [
    "config = {\n",
    "    'test_size': 0.2,\n",
    "    'val_split': 0.1,\n",
    "    'seed': 2,\n",
    "    'input_type': 'concat',\n",
    "    'hidden_dims': [1400, 700, 350],\n",
    "    'dropout': 0.4,\n",
    "    'weight_decay': 1e-4,\n",
    "    'batch_size': 32,\n",
    "    'lr': 0.001,\n",
    "    'epochs': 100,\n",
    "    'patience': 15,\n",
    "}"
   ]
  },
  {
   "cell_type": "markdown",
   "id": "563d6bbe",
   "metadata": {},
   "source": [
    "Get the datasets and dataloaders that retrieve the computed embeddings."
   ]
  },
  {
   "cell_type": "code",
   "execution_count": 6,
   "id": "325a5770",
   "metadata": {},
   "outputs": [
    {
     "name": "stdout",
     "output_type": "stream",
     "text": [
      "\n",
      "Using device: cuda:1\n",
      "\n",
      "Creating datasets...\n",
      "Loaded 1556 positive samples\n",
      "Loaded 1402 negative samples\n",
      "\n",
      "Dataset splits:\n",
      "  Train: 2129 samples (pos: 1120, neg: 1009)\n",
      "  Val:   237 samples (pos: 125, neg: 112)\n",
      "  Test:  592 samples (pos: 311, neg: 281)\n",
      "  Input type: concat\n",
      "Input dimension: 1536\n"
     ]
    }
   ],
   "source": [
    "# Setup device\n",
    "device = setup_device(gpu_index=1, memory_fraction=1.0)\n",
    "print(f\"\\nUsing device: {device}\")\n",
    "\n",
    "# Create datasets\n",
    "print(\"\\nCreating datasets...\")\n",
    "train_dataset, val_dataset, test_dataset = create_datasets(\n",
    "    test_size=config['test_size'],\n",
    "    val_split=config['val_split'],\n",
    "    random_state=config['seed'],\n",
    "    input_type=config['input_type'],\n",
    "    augment=False  \n",
    ")\n",
    "\n",
    "# Get input dimension\n",
    "sample_embedding, _ = train_dataset[0]\n",
    "input_dim = sample_embedding.shape[0]\n",
    "print(f\"Input dimension: {input_dim}\")\n",
    "\n",
    "# Create dataloaders - reproducible same as for training\n",
    "train_loader = DataLoader(\n",
    "    train_dataset, \n",
    "    batch_size=config['batch_size'], \n",
    "    shuffle=True, \n",
    "    num_workers=4\n",
    ")\n",
    "val_loader = DataLoader(\n",
    "    val_dataset, \n",
    "    batch_size=config['batch_size'], \n",
    "    shuffle=False, \n",
    "    num_workers=4\n",
    ")\n",
    "test_loader = DataLoader(\n",
    "    test_dataset, \n",
    "    batch_size=config['batch_size'], \n",
    "    shuffle=False, \n",
    "    num_workers=4\n",
    ")\n"
   ]
  },
  {
   "cell_type": "markdown",
   "id": "f0f2de35",
   "metadata": {},
   "source": [
    "For Southeast-Asia and Africa."
   ]
  },
  {
   "cell_type": "code",
   "execution_count": 7,
   "id": "f69ed023",
   "metadata": {},
   "outputs": [
    {
     "name": "stdout",
     "output_type": "stream",
     "text": [
      "\n",
      "Loading Southeast Asia dataset...\n",
      "Southeast Asia: 56 samples (pos: 29, neg: 27)\n",
      "Africa: 34 samples (pos: 15, neg: 19)\n"
     ]
    }
   ],
   "source": [
    "# Load Southeast Asia dataset\n",
    "print(\"\\nLoading Southeast Asia dataset...\")\n",
    "from burned_embedder.classifier.dataset import load_embedding_paths_and_labels, DeforestationDataset\n",
    "\n",
    "def load_continent_dataset(continent_name, input_type='concat', batch_size=32):\n",
    "    \"\"\"Load dataset for a specific continent\"\"\"\n",
    "    pos_paths, pos_labels = load_embedding_paths_and_labels('positive', continent=continent_name)\n",
    "    neg_paths, neg_labels = load_embedding_paths_and_labels('negative', continent=continent_name)\n",
    "    \n",
    "    all_paths = pos_paths + neg_paths\n",
    "    all_labels = pos_labels + neg_labels\n",
    "    \n",
    "    dataset = DeforestationDataset(\n",
    "        all_paths, all_labels, \n",
    "        input_type=input_type, \n",
    "        normalize=True, \n",
    "        augment=False\n",
    "    )\n",
    "    \n",
    "    dataloader = DataLoader(\n",
    "        dataset, \n",
    "        batch_size=batch_size, \n",
    "        shuffle=False, \n",
    "        num_workers=4\n",
    "    )\n",
    "    \n",
    "    print(f\"{continent_name.replace('_', ' ').title()}: {len(dataset)} samples \"\n",
    "          f\"(pos: {sum(all_labels)}, neg: {len(all_labels) - sum(all_labels)})\")\n",
    "    \n",
    "    return dataloader, all_labels, all_paths\n",
    "\n",
    "# Load Southeast Asia\n",
    "sea_loader, sea_labels, sea_paths = load_continent_dataset(\n",
    "    'southeast_asia',\n",
    "    input_type=config['input_type'],\n",
    "    batch_size=config['batch_size']\n",
    ")\n",
    "\n",
    "# Load Africa\n",
    "africa_loader, africa_labels, africa_paths = load_continent_dataset(\n",
    "    'africa',\n",
    "    input_type=config['input_type'],\n",
    "    batch_size=config['batch_size']\n",
    ")"
   ]
  },
  {
   "cell_type": "markdown",
   "id": "add83875",
   "metadata": {},
   "source": [
    "# Load trained Deforestation Image-Level Classifier"
   ]
  },
  {
   "cell_type": "markdown",
   "id": "fcef329f",
   "metadata": {},
   "source": [
    "# "
   ]
  },
  {
   "cell_type": "code",
   "execution_count": 8,
   "id": "13643500",
   "metadata": {},
   "outputs": [
    {
     "name": "stdout",
     "output_type": "stream",
     "text": [
      "\n",
      "Loading trained model from: /net/home/lmaecker/own_projects/burned_embedder/models/final_classifier/best_model.pt\n",
      "Model trained for 45 epochs\n",
      "Best validation F1: 0.8638\n",
      "Input dimension from checkpoint: 1536\n",
      "\n",
      "Model Architecture:\n",
      "DifferenceMLP(\n",
      "  (model): Sequential(\n",
      "    (0): Linear(in_features=1536, out_features=1400, bias=True)\n",
      "    (1): ReLU()\n",
      "    (2): Dropout(p=0.4, inplace=False)\n",
      "    (3): Linear(in_features=1400, out_features=700, bias=True)\n",
      "    (4): ReLU()\n",
      "    (5): Dropout(p=0.4, inplace=False)\n",
      "    (6): Linear(in_features=700, out_features=350, bias=True)\n",
      "    (7): ReLU()\n",
      "    (8): Dropout(p=0.4, inplace=False)\n",
      "    (9): Linear(in_features=350, out_features=1, bias=True)\n",
      "    (10): Sigmoid()\n",
      "  )\n",
      ")\n",
      "\n",
      "Total parameters: 3,378,201\n",
      "Trainable parameters: 3,378,201\n",
      "Model loaded and ready for inference\n"
     ]
    }
   ],
   "source": [
    "# Load the best trained model\n",
    "model_path = root_path / \"models\" / \"final_classifier\" / \"best_model.pt\"\n",
    "print(f\"\\nLoading trained model from: {model_path}\")\n",
    "\n",
    "checkpoint = torch.load(model_path, map_location=device)\n",
    "print(f\"Model trained for {checkpoint['epoch']} epochs\")\n",
    "print(f\"Best validation F1: {checkpoint['val_f1']:.4f}\")\n",
    "\n",
    "# Get actual input dimension from checkpoint\n",
    "first_layer_weight = checkpoint['model_state_dict']['model.0.weight']\n",
    "actual_input_dim = first_layer_weight.shape[1]\n",
    "print(f\"Input dimension from checkpoint: {actual_input_dim}\")\n",
    "\n",
    "# Initialize model with correct architecture\n",
    "model = get_model(\n",
    "    input_dim=actual_input_dim,\n",
    "    hidden_dims=config['hidden_dims'],\n",
    "    dropout=config['dropout'],\n",
    "    device=device\n",
    ")\n",
    "\n",
    "# Load trained weights\n",
    "model.load_state_dict(checkpoint['model_state_dict'])\n",
    "model.eval()\n",
    "print(\"Model loaded and ready for inference\")"
   ]
  },
  {
   "cell_type": "markdown",
   "id": "899a0426",
   "metadata": {},
   "source": [
    "# Run predictions on all test samples"
   ]
  },
  {
   "cell_type": "code",
   "execution_count": 9,
   "id": "2961f72c",
   "metadata": {},
   "outputs": [
    {
     "name": "stdout",
     "output_type": "stream",
     "text": [
      "\n",
      "======================================================================\n",
      "Running Predictions on Test Set\n",
      "======================================================================\n"
     ]
    },
    {
     "name": "stderr",
     "output_type": "stream",
     "text": [
      "Processing test batches:   0%|          | 0/19 [00:00<?, ?it/s]"
     ]
    },
    {
     "name": "stderr",
     "output_type": "stream",
     "text": [
      "Processing test batches: 100%|██████████| 19/19 [00:00<00:00, 65.11it/s]"
     ]
    },
    {
     "name": "stdout",
     "output_type": "stream",
     "text": [
      "Processed 592 test samples\n"
     ]
    },
    {
     "name": "stderr",
     "output_type": "stream",
     "text": [
      "\n"
     ]
    }
   ],
   "source": [
    "# Run predictions on test set\n",
    "from sklearn.metrics import (\n",
    "    f1_score, precision_score, recall_score, roc_auc_score, \n",
    "    confusion_matrix, average_precision_score\n",
    ")\n",
    "\n",
    "print(f\"\\n{'='*70}\")\n",
    "print(\"Running Predictions on Test Set\")\n",
    "print(f\"{'='*70}\")\n",
    "\n",
    "model.eval()\n",
    "all_preds = []\n",
    "all_probs = []\n",
    "all_labels = []\n",
    "\n",
    "with torch.no_grad():\n",
    "    for embeddings, labels in tqdm(test_loader, desc=\"Processing test batches\"):\n",
    "        embeddings = embeddings.to(device)\n",
    "        labels = labels.to(device)\n",
    "        \n",
    "        outputs = model(embeddings)\n",
    "        preds = (outputs > 0.5).float()\n",
    "        \n",
    "        all_preds.extend(preds.cpu().numpy())\n",
    "        all_probs.extend(outputs.cpu().numpy())\n",
    "        all_labels.extend(labels.cpu().numpy())\n",
    "\n",
    "all_preds = np.array(all_preds)\n",
    "all_probs = np.array(all_probs)\n",
    "all_labels = np.array(all_labels)\n",
    "\n",
    "print(f\"Processed {len(all_preds)} test samples\")"
   ]
  },
  {
   "cell_type": "markdown",
   "id": "19cc1bb5",
   "metadata": {},
   "source": [
    "For Southeast-Asia and Africa."
   ]
  },
  {
   "cell_type": "code",
   "execution_count": 10,
   "id": "723ab8be",
   "metadata": {},
   "outputs": [
    {
     "name": "stdout",
     "output_type": "stream",
     "text": [
      "\n",
      "Evaluating Southeast Asia...\n"
     ]
    },
    {
     "name": "stderr",
     "output_type": "stream",
     "text": [
      "Processing Southeast Asia:   0%|          | 0/2 [00:00<?, ?it/s]"
     ]
    },
    {
     "name": "stderr",
     "output_type": "stream",
     "text": [
      "Processing Southeast Asia: 100%|██████████| 2/2 [00:00<00:00, 14.90it/s]\n"
     ]
    },
    {
     "name": "stdout",
     "output_type": "stream",
     "text": [
      "\n",
      "Evaluating Africa...\n"
     ]
    },
    {
     "name": "stderr",
     "output_type": "stream",
     "text": [
      "Processing Africa: 100%|██████████| 2/2 [00:00<00:00, 13.68it/s]\n"
     ]
    }
   ],
   "source": [
    "# Evaluate Southeast Asia\n",
    "print(\"\\nEvaluating Southeast Asia...\")\n",
    "sea_preds = []\n",
    "sea_probs = []\n",
    "model.eval()\n",
    "with torch.no_grad():\n",
    "    for embeddings, labels in tqdm(sea_loader, desc=\"Processing Southeast Asia\"):\n",
    "        embeddings = embeddings.to(device)\n",
    "        outputs = model(embeddings)\n",
    "        preds = (outputs > 0.5).float()\n",
    "        sea_preds.extend(preds.cpu().numpy())\n",
    "        sea_probs.extend(outputs.cpu().numpy())\n",
    "\n",
    "sea_preds = np.array(sea_preds)\n",
    "sea_probs = np.array(sea_probs)\n",
    "\n",
    "# Evaluate Africa\n",
    "print(\"\\nEvaluating Africa...\")\n",
    "africa_preds = []\n",
    "africa_probs = []\n",
    "model.eval()\n",
    "with torch.no_grad():\n",
    "    for embeddings, labels in tqdm(africa_loader, desc=\"Processing Africa\"):\n",
    "        embeddings = embeddings.to(device)\n",
    "        outputs = model(embeddings)\n",
    "        preds = (outputs > 0.5).float()\n",
    "        africa_preds.extend(preds.cpu().numpy())\n",
    "        africa_probs.extend(outputs.cpu().numpy())\n",
    "\n",
    "africa_preds = np.array(africa_preds)\n",
    "africa_probs = np.array(africa_probs)"
   ]
  },
  {
   "cell_type": "markdown",
   "id": "0d288a97",
   "metadata": {},
   "source": [
    "# Validation Results"
   ]
  },
  {
   "cell_type": "code",
   "execution_count": 11,
   "id": "74f3bfe0",
   "metadata": {},
   "outputs": [],
   "source": [
    "# Calculate metrics\n",
    "f1 = f1_score(all_labels, all_preds)\n",
    "precision = precision_score(all_labels, all_preds, zero_division=0)\n",
    "recall = recall_score(all_labels, all_preds, zero_division=0)\n",
    "roc_auc = roc_auc_score(all_labels, all_probs)\n",
    "avg_precision = average_precision_score(all_labels, all_probs)\n",
    "cm = confusion_matrix(all_labels, all_preds)\n",
    "\n",
    "# Error rates\n",
    "tn, fp, fn, tp = cm[0,0], cm[0,1], cm[1,0], cm[1,1]\n",
    "fpr = fp / (fp + tn) if (fp + tn) > 0 else 0\n",
    "fnr = fn / (fn + tp) if (fn + tp) > 0 else 0"
   ]
  },
  {
   "cell_type": "code",
   "execution_count": 12,
   "id": "026f7f9c",
   "metadata": {},
   "outputs": [
    {
     "name": "stdout",
     "output_type": "stream",
     "text": [
      "\n",
      "======================================================================\n",
      "Test Set Performance\n",
      "======================================================================\n",
      "\n",
      "Classification Metrics:\n",
      "  F1 Score:       0.8704\n",
      "  Precision:      0.8662\n",
      "  Recall:         0.8746\n",
      "  ROC-AUC:        0.9382\n",
      "  Avg Precision:  0.9403\n",
      "\n",
      "Confusion Matrix:\n",
      "                Predicted\n",
      "              Neg    Pos\n",
      "  Actual Neg [ 239    42]\n",
      "         Pos [  39   272]\n",
      "\n",
      "Error Analysis:\n",
      "  False Positive Rate: 0.1495 (42/281)\n",
      "  False Negative Rate: 0.1254 (39/311)\n",
      "\n",
      "Sample Distribution:\n",
      "  Total Samples: 592\n",
      "  Positive: 311\n",
      "  Negative: 281\n"
     ]
    }
   ],
   "source": [
    "# Print detailed results (same format as 08_create_val_report.py)\n",
    "print(f\"\\n{'='*70}\")\n",
    "print(\"Test Set Performance\")\n",
    "print(f\"{'='*70}\")\n",
    "\n",
    "print(f\"\\nClassification Metrics:\")\n",
    "print(f\"  F1 Score:       {f1:.4f}\")\n",
    "print(f\"  Precision:      {precision:.4f}\")\n",
    "print(f\"  Recall:         {recall:.4f}\")\n",
    "print(f\"  ROC-AUC:        {roc_auc:.4f}\")\n",
    "print(f\"  Avg Precision:  {avg_precision:.4f}\")\n",
    "\n",
    "print(f\"\\nConfusion Matrix:\")\n",
    "print(f\"                Predicted\")\n",
    "print(f\"              Neg    Pos\")\n",
    "print(f\"  Actual Neg [{cm[0,0]:4d}  {cm[0,1]:4d}]\")\n",
    "print(f\"         Pos [{cm[1,0]:4d}  {cm[1,1]:4d}]\")\n",
    "\n",
    "print(f\"\\nError Analysis:\")\n",
    "print(f\"  False Positive Rate: {fpr:.4f} ({fp}/{fp+tn})\")\n",
    "print(f\"  False Negative Rate: {fnr:.4f} ({fn}/{fn+tp})\")\n",
    "\n",
    "print(f\"\\nSample Distribution:\")\n",
    "print(f\"  Total Samples: {len(all_labels)}\")\n",
    "print(f\"  Positive: {tp + fn}\")\n",
    "print(f\"  Negative: {tn + fp}\")"
   ]
  },
  {
   "cell_type": "code",
   "execution_count": 13,
   "id": "570ea1f2",
   "metadata": {},
   "outputs": [
    {
     "name": "stderr",
     "output_type": "stream",
     "text": [
      "/tmp/ipykernel_2284483/397293728.py:69: UserWarning: This figure includes Axes that are not compatible with tight_layout, so results might be incorrect.\n",
      "  plt.tight_layout()\n"
     ]
    },
    {
     "data": {
      "image/png": "[encoded data removed]",
      "text/plain": [
       "<Figure size 1400x600 with 2 Axes>"
      ]
     },
     "metadata": {},
     "output_type": "display_data"
    }
   ],
   "source": [
    "# Visualize confusion matrix and metrics (same style as 08_create_val_report.py)\n",
    "import seaborn as sns\n",
    "\n",
    "fig = plt.figure(figsize=(14, 6))\n",
    "gs = fig.add_gridspec(1, 2, width_ratios=[1, 1.2], hspace=0.3)\n",
    "\n",
    "# Confusion Matrix\n",
    "ax1 = fig.add_subplot(gs[0])\n",
    "sns.heatmap(\n",
    "    cm,\n",
    "    annot=True,\n",
    "    fmt='d',\n",
    "    cmap='Blues',\n",
    "    ax=ax1,\n",
    "    cbar=False,\n",
    "    square=True,\n",
    "    annot_kws={'size': 14, 'weight': 'bold'}\n",
    ")\n",
    "ax1.set_title('Confusion Matrix', fontsize=13, fontweight='bold', pad=10)\n",
    "ax1.set_ylabel('Actual', fontsize=11, fontweight='bold')\n",
    "ax1.set_xlabel('Predicted', fontsize=11, fontweight='bold')\n",
    "ax1.set_xticklabels(['Negative', 'Positive'], fontsize=10)\n",
    "ax1.set_yticklabels(['Negative', 'Positive'], fontsize=10, rotation=0)\n",
    "\n",
    "# Metrics table\n",
    "ax2 = fig.add_subplot(gs[1])\n",
    "ax2.axis('tight')\n",
    "ax2.axis('off')\n",
    "\n",
    "metrics_data = [\n",
    "    ['Metric', 'Value'],\n",
    "    ['F1 Score', f\"{f1:.4f}\"],\n",
    "    ['Precision', f\"{precision:.4f}\"],\n",
    "    ['Recall', f\"{recall:.4f}\"],\n",
    "    ['ROC-AUC', f\"{roc_auc:.4f}\"],\n",
    "    ['Avg Precision', f\"{avg_precision:.4f}\"],\n",
    "    ['', ''],\n",
    "    ['False Positive Rate', f\"{fpr:.4f}\"],\n",
    "    ['False Negative Rate', f\"{fnr:.4f}\"],\n",
    "    ['', ''],\n",
    "    ['True Positives', f\"{tp}\"],\n",
    "    ['True Negatives', f\"{tn}\"],\n",
    "    ['False Positives', f\"{fp}\"],\n",
    "    ['False Negatives', f\"{fn}\"],\n",
    "]\n",
    "\n",
    "table = ax2.table(\n",
    "    cellText=metrics_data,\n",
    "    cellLoc='left',\n",
    "    loc='center',\n",
    "    colWidths=[0.6, 0.4]\n",
    ")\n",
    "table.auto_set_font_size(False)\n",
    "table.set_fontsize(11)\n",
    "table.scale(1, 2.5)\n",
    "\n",
    "# Style header row\n",
    "for i in range(2):\n",
    "    table[(0, i)].set_facecolor('#2E86AB')\n",
    "    table[(0, i)].set_text_props(weight='bold', color='white')\n",
    "\n",
    "# Style metric rows\n",
    "for i in range(1, len(metrics_data)):\n",
    "    if metrics_data[i][0] == '':\n",
    "        continue\n",
    "    table[(i, 0)].set_text_props(weight='bold')\n",
    "\n",
    "plt.suptitle('Test Set Performance', fontsize=15, fontweight='bold')\n",
    "plt.tight_layout()\n",
    "plt.show()"
   ]
  },
  {
   "cell_type": "markdown",
   "id": "a4056469",
   "metadata": {},
   "source": [
    "# Sample Visualization"
   ]
  },
  {
   "cell_type": "code",
   "execution_count": 14,
   "id": "9a21ea3c",
   "metadata": {},
   "outputs": [
    {
     "name": "stdout",
     "output_type": "stream",
     "text": [
      "\n",
      "Categorizing predictions...\n",
      "\n",
      "South America:\n",
      "  TP: 272\n",
      "  FP: 42\n",
      "  TN: 239\n",
      "  FN: 39\n",
      "\n",
      "Southeast Asia:\n",
      "  TP: 12\n",
      "  FP: 3\n",
      "  TN: 24\n",
      "  FN: 17\n",
      "\n",
      "Africa:\n",
      "  TP: 11\n",
      "  FP: 4\n",
      "  TN: 15\n",
      "  FN: 4\n"
     ]
    }
   ],
   "source": [
    "# Update the categorize_predictions function to handle the correct attribute name\n",
    "def categorize_predictions(preds, probs, labels, paths, continent_name):\n",
    "    \"\"\"\n",
    "    Categorize predictions into TP, FP, TN, FN with event IDs\n",
    "    \"\"\"\n",
    "    results = {\n",
    "        'true_positives': [],\n",
    "        'false_positives': [],\n",
    "        'true_negatives': [],\n",
    "        'false_negatives': []\n",
    "    }\n",
    "    \n",
    "    for i, (pred, prob, label, path) in enumerate(zip(preds, probs, labels, paths)):\n",
    "        # Extract event_id from path\n",
    "        # path is tuple of (before_path, after_path)\n",
    "        event_id = int(path[0].parent.name.split('_')[1])\n",
    "        \n",
    "        item = {\n",
    "            'event_id': event_id,\n",
    "            'prediction': pred,\n",
    "            'probability': prob,\n",
    "            'label': label,\n",
    "            'continent': continent_name\n",
    "        }\n",
    "        \n",
    "        if label == 1 and pred == 1:\n",
    "            results['true_positives'].append(item)\n",
    "        elif label == 0 and pred == 1:\n",
    "            results['false_positives'].append(item)\n",
    "        elif label == 0 and pred == 0:\n",
    "            results['true_negatives'].append(item)\n",
    "        elif label == 1 and pred == 0:\n",
    "            results['false_negatives'].append(item)\n",
    "    \n",
    "    return results\n",
    "\n",
    "# Categorize for all continents - USE .embedding_paths not .paths\n",
    "print(\"\\nCategorizing predictions...\")\n",
    "sa_categorized = categorize_predictions(all_preds, all_probs, all_labels, test_dataset.embedding_paths, 'south_america')\n",
    "sea_categorized = categorize_predictions(sea_preds, sea_probs, sea_labels, sea_paths, 'southeast_asia')\n",
    "africa_categorized = categorize_predictions(africa_preds, africa_probs, africa_labels, africa_paths, 'africa')\n",
    "\n",
    "# Print summary\n",
    "for continent, results in [('South America', sa_categorized), \n",
    "                           ('Southeast Asia', sea_categorized), \n",
    "                           ('Africa', africa_categorized)]:\n",
    "    print(f\"\\n{continent}:\")\n",
    "    print(f\"  TP: {len(results['true_positives'])}\")\n",
    "    print(f\"  FP: {len(results['false_positives'])}\")\n",
    "    print(f\"  TN: {len(results['true_negatives'])}\")\n",
    "    print(f\"  FN: {len(results['false_negatives'])}\")"
   ]
  },
  {
   "cell_type": "code",
   "execution_count": 15,
   "id": "7f58f0f8",
   "metadata": {},
   "outputs": [],
   "source": [
    "def img_interactive(da):\n",
    "    import ipywidgets as widgets\n",
    "    import matplotlib.pyplot as plt\n",
    "\n",
    "    def plot_time_steps(time_index1, time_index2):\n",
    "        fig, (ax1, ax2) = plt.subplots(1, 2, figsize=(16, 8))\n",
    "        \n",
    "        # Left image\n",
    "        da.isel(time=time_index1).plot.imshow(robust=True, ax=ax1)\n",
    "        ax1.set_title(f\"{str(da.time.values[time_index1])[:10]}\")\n",
    "        ax1.axis('off')\n",
    "        \n",
    "        # Right image  \n",
    "        da.isel(time=time_index2).plot.imshow(robust=True, ax=ax2)\n",
    "        ax2.set_title(f\"{str(da.time.values[time_index2])[:10]}\")\n",
    "        ax2.axis('off')\n",
    "        \n",
    "        plt.tight_layout()\n",
    "        plt.show()\n",
    "\n",
    "    widgets.interact(\n",
    "        plot_time_steps, \n",
    "        time_index1=widgets.IntSlider(min=0, max=len(da.time)-1, step=1, value=0, description='Left Image'),\n",
    "        time_index2=widgets.IntSlider(min=0, max=len(da.time)-1, step=1, value=1, description='Right Image')\n",
    "    )"
   ]
  },
  {
   "cell_type": "code",
   "execution_count": 16,
   "id": "06883793",
   "metadata": {},
   "outputs": [
    {
     "name": "stdout",
     "output_type": "stream",
     "text": [
      "Loading metadata files...\n",
      "\n",
      "======================================================================\n",
      "INTERACTIVE ERROR EXPLORER\n",
      "======================================================================\n",
      "\n",
      "Select continent to explore:\n",
      "\n"
     ]
    },
    {
     "data": {
      "application/vnd.jupyter.widget-view+json": {
       "model_id": "a1688e134e9d4416b5465c561982c8ce",
       "version_major": 2,
       "version_minor": 0
      },
      "text/plain": [
       "Tab(children=(Output(), Output(), Output()), _titles={'0': 'South America', '1': 'Southeast Asia', '2': 'Afric…"
      ]
     },
     "metadata": {},
     "output_type": "display_data"
    }
   ],
   "source": [
    "# First, let's create a function to load or download satellite data for an event\n",
    "def get_or_load_satellite_data(event_id, continent, force_reload=False):\n",
    "    \"\"\"\n",
    "    Get satellite data for an event - load from disk or download if needed\n",
    "    \"\"\"\n",
    "    from burned_embedder.data import (\n",
    "        load_s2, calculate_search_dates, clean_metadata_nc\n",
    "    )\n",
    "    \n",
    "    # Check if data already exists\n",
    "    event_dir = root_path / \"data\" / \"processed\" / \"sen_data\" / f\"event_{event_id}\"\n",
    "    s2_path = event_dir / \"da_s2.nc\"\n",
    "    \n",
    "    if s2_path.exists() and not force_reload:\n",
    "        print(f\"Loading existing data for event_{event_id}\")\n",
    "        da_s2 = xr.open_dataarray(s2_path)\n",
    "        return da_s2\n",
    "    \n",
    "    # Need to download - get metadata\n",
    "    metadata_df = metadata_dict[continent]\n",
    "    event_meta = metadata_df.iloc[event_id]\n",
    "    \n",
    "    print(f\"Downloading satellite data for event_{event_id}...\")\n",
    "    print(f\"  Location: ({event_meta['centroid_y']:.4f}, {event_meta['centroid_x']:.4f})\")\n",
    "    print(f\"  Alert period: {event_meta['earliest_alert']} to {event_meta['latest_alert']}\")\n",
    "    \n",
    "    # Calculate search dates with buffer\n",
    "    search_start, search_end = calculate_search_dates(\n",
    "        event_meta['earliest_alert'],\n",
    "        event_meta['latest_alert'],\n",
    "        buffer_months=2\n",
    "    )\n",
    "    \n",
    "    print(f\"  Search window: {search_start} to {search_end}\")\n",
    "    \n",
    "    # Load Sentinel-2 data\n",
    "    da_s2 = load_s2(\n",
    "        lat=event_meta['centroid_y'],\n",
    "        lon=event_meta['centroid_x'],\n",
    "        start_date=search_start,\n",
    "        end_date=search_end,\n",
    "        bands=[\"B04\", \"B03\", \"B02\", \"B08\"],  # RGB + NIR for visualization\n",
    "        edge_size=128,\n",
    "        max_cloud_cover=100,\n",
    "        verbose=True\n",
    "    )\n",
    "    \n",
    "    if da_s2 is None or len(da_s2.time) == 0:\n",
    "        print(f\"  Warning: No suitable S2 data found\")\n",
    "        return None\n",
    "    \n",
    "    print(f\"  Found {len(da_s2.time)} observations\")\n",
    "    \n",
    "    # Save to disk\n",
    "    event_dir.mkdir(parents=True, exist_ok=True)\n",
    "    \n",
    "    # Clean and save\n",
    "    da_s2_clean = clean_metadata_nc(da_s2)\n",
    "    da_s2_clean.to_netcdf(s2_path)\n",
    "    print(f\"  Saved to {s2_path}\")\n",
    "    \n",
    "    return da_s2\n",
    "\n",
    "def visualize_error_case_interactive(event_id, continent, error_type, categorized_results, force_reload=False):\n",
    "    \"\"\"\n",
    "    Visualize error case with interactive time slider - downloads data if needed\n",
    "    \"\"\"\n",
    "    import matplotlib.pyplot as plt\n",
    "    from IPython.display import clear_output\n",
    "    \n",
    "    # Get metadata\n",
    "    metadata_df = metadata_dict[continent]\n",
    "    event_meta = metadata_df.iloc[event_id]\n",
    "    \n",
    "    # Get prediction info\n",
    "    pred_info = next((item for item in categorized_results[error_type] \n",
    "                      if item['event_id'] == event_id), None)\n",
    "    \n",
    "    if pred_info is None:\n",
    "        print(f\"Event {event_id} not found in {error_type}\")\n",
    "        return\n",
    "    \n",
    "    # Load or download satellite data\n",
    "    try:\n",
    "        da_s2 = get_or_load_satellite_data(event_id, continent, force_reload)\n",
    "        \n",
    "        if da_s2 is None:\n",
    "            print(f\"Could not load satellite data for event_{event_id}\")\n",
    "            return\n",
    "        \n",
    "        da_s2_rgb = da_s2.sel(band=[\"B04\", \"B03\", \"B02\"])\n",
    "        \n",
    "    except Exception as e:\n",
    "        print(f\"Error loading satellite data: {e}\")\n",
    "        return\n",
    "    \n",
    "    # Print metadata\n",
    "    print(f\"\\n{'='*70}\")\n",
    "    print(f\"Continent: {continent.replace('_', ' ').title()}\")\n",
    "    print(f\"Error Type: {error_type.replace('_', ' ').title()}\")\n",
    "    print(f\"Event ID: {event_id}\")\n",
    "    print(f\"{'='*70}\")\n",
    "    print(f\"Prediction: {pred_info['prediction']:.0f} (probability: {pred_info['probability']:.3f})\")\n",
    "    print(f\"True Label: {pred_info['label']:.0f}\")\n",
    "    print(f\"Size: {event_meta['size_pixels']} pixels ({event_meta['area_hectares']:.2f} ha)\")\n",
    "    print(f\"Alert Period: {event_meta['earliest_alert']} to {event_meta['latest_alert']}\")\n",
    "    print(f\"Duration: {event_meta['duration_days']} days\")\n",
    "    print(f\"Available observations: {len(da_s2_rgb.time)}\")\n",
    "    print(f\"{'='*70}\\n\")\n",
    "    \n",
    "    # Close any existing plots before creating new interactive viewer\n",
    "    plt.close('all')\n",
    "    \n",
    "    # Use your interactive viewer\n",
    "    img_interactive(da_s2_rgb)\n",
    "    \n",
    "    return pred_info, event_meta\n",
    "\n",
    "def interactive_error_explorer(continent_results, continent_name):\n",
    "    \"\"\"\n",
    "    Interactive widget to explore different error cases\n",
    "    \"\"\"\n",
    "    import ipywidgets as widgets\n",
    "    from IPython.display import display, clear_output\n",
    "    import matplotlib.pyplot as plt\n",
    "    \n",
    "    categorized = continent_results\n",
    "    \n",
    "    error_type_dropdown = widgets.Dropdown(\n",
    "        options=['true_positives', 'false_positives', 'true_negatives', 'false_negatives'],\n",
    "        description='Error Type:',\n",
    "        style={'description_width': 'initial'}\n",
    "    )\n",
    "    \n",
    "    event_dropdown = widgets.Dropdown(\n",
    "        options=[],\n",
    "        description='Event ID:',\n",
    "        style={'description_width': 'initial'}\n",
    "    )\n",
    "    \n",
    "    force_reload_checkbox = widgets.Checkbox(\n",
    "        value=False,\n",
    "        description='Force re-download',\n",
    "        style={'description_width': 'initial'}\n",
    "    )\n",
    "    \n",
    "    output = widgets.Output()\n",
    "    \n",
    "    def update_event_dropdown(*args):\n",
    "        error_type = error_type_dropdown.value\n",
    "        events = categorized[error_type]\n",
    "        event_ids = [item['event_id'] for item in events]\n",
    "        event_dropdown.options = event_ids\n",
    "        if len(event_ids) > 0:\n",
    "            event_dropdown.value = event_ids[0]\n",
    "    \n",
    "    error_type_dropdown.observe(update_event_dropdown, 'value')\n",
    "    update_event_dropdown()\n",
    "    \n",
    "    def on_button_click(b):\n",
    "        # Close all existing matplotlib figures first\n",
    "        plt.close('all')\n",
    "        \n",
    "        with output:\n",
    "            clear_output(wait=True)\n",
    "            visualize_error_case_interactive(\n",
    "                event_dropdown.value, \n",
    "                continent_name, \n",
    "                error_type_dropdown.value, \n",
    "                categorized,\n",
    "                force_reload=force_reload_checkbox.value\n",
    "            )\n",
    "    \n",
    "    button = widgets.Button(description=\"Visualize\", button_style='success')\n",
    "    button.on_click(on_button_click)\n",
    "    \n",
    "    display(widgets.VBox([\n",
    "        error_type_dropdown, \n",
    "        event_dropdown, \n",
    "        force_reload_checkbox,\n",
    "        button, \n",
    "        output\n",
    "    ]))\n",
    "    \n",
    "# Load metadata parquet files\n",
    "print(\"Loading metadata files...\")\n",
    "sa_metadata = pd.read_parquet(root_path / \"data\" / \"processed\" / \"radd\" / \"south_america_combined_clean.parquet\")\n",
    "sea_metadata = pd.read_parquet(root_path / \"data\" / \"processed\" / \"radd\" / \"southeast_asia_combined_clean.parquet\")\n",
    "africa_metadata = pd.read_parquet(root_path / \"data\" / \"processed\" / \"radd\" / \"africa_combined_clean.parquet\")\n",
    "\n",
    "metadata_dict = {\n",
    "    'south_america': sa_metadata,\n",
    "    'southeast_asia': sea_metadata,\n",
    "    'africa': africa_metadata\n",
    "}\n",
    "\n",
    "# Use the interactive explorer\n",
    "print(\"\\n\" + \"=\"*70)\n",
    "print(\"INTERACTIVE ERROR EXPLORER\")\n",
    "print(\"=\"*70)\n",
    "print(\"\\nSelect continent to explore:\\n\")\n",
    "\n",
    "# Create tabs for each continent\n",
    "import ipywidgets as widgets\n",
    "from IPython.display import display\n",
    "\n",
    "tab_contents = []\n",
    "for continent_name, categorized in [('south_america', sa_categorized), \n",
    "                                     ('southeast_asia', sea_categorized), \n",
    "                                     ('africa', africa_categorized)]:\n",
    "    out = widgets.Output()\n",
    "    with out:\n",
    "        interactive_error_explorer(categorized, continent_name)\n",
    "    tab_contents.append(out)\n",
    "\n",
    "tabs = widgets.Tab(children=tab_contents)\n",
    "tabs.set_title(0, 'South America')\n",
    "tabs.set_title(1, 'Southeast Asia')\n",
    "tabs.set_title(2, 'Africa')\n",
    "\n",
    "display(tabs)"
   ]
  },
  {
   "cell_type": "markdown",
   "id": "c16f0ed0",
   "metadata": {},
   "source": []
  }
 ],
 "metadata": {
  "kernelspec": {
   "display_name": "burned_embedder",
   "language": "python",
   "name": "python3"
  },
  "language_info": {
   "codemirror_mode": {
    "name": "ipython",
    "version": 3
   },
   "file_extension": ".py",
   "mimetype": "text/x-python",
   "name": "python",
   "nbconvert_exporter": "python",
   "pygments_lexer": "ipython3",
   "version": "3.12.4"
  }
 },
 "nbformat": 4,
 "nbformat_minor": 5
}
